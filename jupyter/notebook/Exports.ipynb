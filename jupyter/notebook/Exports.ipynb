{
 "cells": [
  {
   "cell_type": "code",
   "execution_count": 1,
   "metadata": {},
   "outputs": [],
   "source": [
    "import findspark\n",
    "\n",
    "findspark.add_jars('/app/postgresql-42.1.4.jar')\n",
    "findspark.init()"
   ]
  },
  {
   "cell_type": "code",
   "execution_count": 2,
   "metadata": {},
   "outputs": [],
   "source": [
    "# Importar paquetes\n",
    "import numpy as np\n",
    "import matplotlib.pyplot as plt\n",
    "import pandas as pd\n",
    "import sys\n",
    "from pyspark.sql import SparkSession\n",
    "from pyspark.sql.types import StringType\n",
    "from pyspark.sql import functions as F\n",
    "from pyspark.sql.window import Window"
   ]
  },
  {
   "cell_type": "code",
   "execution_count": 3,
   "metadata": {},
   "outputs": [],
   "source": [
    "from pyspark.sql import SparkSession\n",
    "spark = (\n",
    "    SparkSession.builder\n",
    "    .appName(\"Exports:ETL\")\n",
    "    .config(\"spark.driver.memory\", \"512m\")\n",
    "    .config(\"spark.driver.cores\", \"1\")\n",
    "    .config(\"spark.executor.memory\", \"512m\")\n",
    "    .config(\"spark.executor.cores\", \"1\")\n",
    "    .config(\"spark.sql.shuffle.partitions\", \"2\")\n",
    "    .getOrCreate()\n",
    ")"
   ]
  },
  {
   "cell_type": "code",
   "execution_count": 4,
   "metadata": {},
   "outputs": [
    {
     "data": {
      "text/html": [
       "<div>\n",
       "<style scoped>\n",
       "    .dataframe tbody tr th:only-of-type {\n",
       "        vertical-align: middle;\n",
       "    }\n",
       "\n",
       "    .dataframe tbody tr th {\n",
       "        vertical-align: top;\n",
       "    }\n",
       "\n",
       "    .dataframe thead th {\n",
       "        text-align: right;\n",
       "    }\n",
       "</style>\n",
       "<table border=\"1\" class=\"dataframe\">\n",
       "  <thead>\n",
       "    <tr style=\"text-align: right;\">\n",
       "      <th></th>\n",
       "      <th>Pais</th>\n",
       "      <th>Alimentos y Bienes de Consumo</th>\n",
       "      <th>Combustibles</th>\n",
       "      <th>Bs Capital y Eq Transporte</th>\n",
       "      <th>Servicios</th>\n",
       "    </tr>\n",
       "  </thead>\n",
       "  <tbody>\n",
       "    <tr>\n",
       "      <th>0</th>\n",
       "      <td>AFG</td>\n",
       "      <td>0.263417</td>\n",
       "      <td>0.015144</td>\n",
       "      <td>0.000000</td>\n",
       "      <td>0.561113</td>\n",
       "    </tr>\n",
       "    <tr>\n",
       "      <th>1</th>\n",
       "      <td>ALB</td>\n",
       "      <td>0.205064</td>\n",
       "      <td>0.041810</td>\n",
       "      <td>0.014504</td>\n",
       "      <td>0.505531</td>\n",
       "    </tr>\n",
       "    <tr>\n",
       "      <th>2</th>\n",
       "      <td>ATG</td>\n",
       "      <td>0.438246</td>\n",
       "      <td>0.011037</td>\n",
       "      <td>0.351556</td>\n",
       "      <td>0.000000</td>\n",
       "    </tr>\n",
       "    <tr>\n",
       "      <th>3</th>\n",
       "      <td>ARG</td>\n",
       "      <td>0.319080</td>\n",
       "      <td>0.027268</td>\n",
       "      <td>0.112044</td>\n",
       "      <td>0.196831</td>\n",
       "    </tr>\n",
       "    <tr>\n",
       "      <th>4</th>\n",
       "      <td>ARM</td>\n",
       "      <td>0.164575</td>\n",
       "      <td>0.030888</td>\n",
       "      <td>0.012032</td>\n",
       "      <td>0.504127</td>\n",
       "    </tr>\n",
       "  </tbody>\n",
       "</table>\n",
       "</div>"
      ],
      "text/plain": [
       "  Pais  Alimentos y Bienes de Consumo  Combustibles  \\\n",
       "0  AFG                       0.263417      0.015144   \n",
       "1  ALB                       0.205064      0.041810   \n",
       "2  ATG                       0.438246      0.011037   \n",
       "3  ARG                       0.319080      0.027268   \n",
       "4  ARM                       0.164575      0.030888   \n",
       "\n",
       "   Bs Capital y Eq Transporte  Servicios  \n",
       "0                    0.000000   0.561113  \n",
       "1                    0.014504   0.505531  \n",
       "2                    0.351556   0.000000  \n",
       "3                    0.112044   0.196831  \n",
       "4                    0.012032   0.504127  "
      ]
     },
     "execution_count": 4,
     "metadata": {},
     "output_type": "execute_result"
    }
   ],
   "source": [
    "# Importar csv y chequear las primeras observaciones\n",
    "df = pd.read_csv(\"/dataset/exports/dataset_exports.csv\")\n",
    "df.head()"
   ]
  },
  {
   "cell_type": "code",
   "execution_count": 5,
   "metadata": {},
   "outputs": [
    {
     "data": {
      "text/plain": [
       "Pais                              object\n",
       "Alimentos y Bienes de Consumo    float64\n",
       "Combustibles                     float64\n",
       "Bs Capital y Eq Transporte       float64\n",
       "Servicios                        float64\n",
       "dtype: object"
      ]
     },
     "execution_count": 5,
     "metadata": {},
     "output_type": "execute_result"
    }
   ],
   "source": [
    "# Ver cómo importa las variables\n",
    "df.dtypes"
   ]
  },
  {
   "cell_type": "code",
   "execution_count": 6,
   "metadata": {},
   "outputs": [
    {
     "data": {
      "text/html": [
       "<div>\n",
       "<style scoped>\n",
       "    .dataframe tbody tr th:only-of-type {\n",
       "        vertical-align: middle;\n",
       "    }\n",
       "\n",
       "    .dataframe tbody tr th {\n",
       "        vertical-align: top;\n",
       "    }\n",
       "\n",
       "    .dataframe thead th {\n",
       "        text-align: right;\n",
       "    }\n",
       "</style>\n",
       "<table border=\"1\" class=\"dataframe\">\n",
       "  <thead>\n",
       "    <tr style=\"text-align: right;\">\n",
       "      <th></th>\n",
       "      <th>Alimentos y Bienes de Consumo</th>\n",
       "      <th>Combustibles</th>\n",
       "      <th>Bs Capital y Eq Transporte</th>\n",
       "      <th>Servicios</th>\n",
       "    </tr>\n",
       "  </thead>\n",
       "  <tbody>\n",
       "    <tr>\n",
       "      <th>count</th>\n",
       "      <td>134.000000</td>\n",
       "      <td>134.000000</td>\n",
       "      <td>134.000000</td>\n",
       "      <td>134.000000</td>\n",
       "    </tr>\n",
       "    <tr>\n",
       "      <th>mean</th>\n",
       "      <td>0.201606</td>\n",
       "      <td>0.104912</td>\n",
       "      <td>0.130454</td>\n",
       "      <td>0.311298</td>\n",
       "    </tr>\n",
       "    <tr>\n",
       "      <th>std</th>\n",
       "      <td>0.150120</td>\n",
       "      <td>0.184281</td>\n",
       "      <td>0.146813</td>\n",
       "      <td>0.234506</td>\n",
       "    </tr>\n",
       "    <tr>\n",
       "      <th>min</th>\n",
       "      <td>0.000066</td>\n",
       "      <td>0.000000</td>\n",
       "      <td>0.000000</td>\n",
       "      <td>0.000000</td>\n",
       "    </tr>\n",
       "    <tr>\n",
       "      <th>25%</th>\n",
       "      <td>0.094992</td>\n",
       "      <td>0.009068</td>\n",
       "      <td>0.022570</td>\n",
       "      <td>0.155531</td>\n",
       "    </tr>\n",
       "    <tr>\n",
       "      <th>50%</th>\n",
       "      <td>0.189705</td>\n",
       "      <td>0.030297</td>\n",
       "      <td>0.069291</td>\n",
       "      <td>0.231680</td>\n",
       "    </tr>\n",
       "    <tr>\n",
       "      <th>75%</th>\n",
       "      <td>0.267029</td>\n",
       "      <td>0.092149</td>\n",
       "      <td>0.191982</td>\n",
       "      <td>0.427800</td>\n",
       "    </tr>\n",
       "    <tr>\n",
       "      <th>max</th>\n",
       "      <td>0.922326</td>\n",
       "      <td>0.903018</td>\n",
       "      <td>0.660417</td>\n",
       "      <td>0.993419</td>\n",
       "    </tr>\n",
       "  </tbody>\n",
       "</table>\n",
       "</div>"
      ],
      "text/plain": [
       "       Alimentos y Bienes de Consumo  Combustibles  \\\n",
       "count                     134.000000    134.000000   \n",
       "mean                        0.201606      0.104912   \n",
       "std                         0.150120      0.184281   \n",
       "min                         0.000066      0.000000   \n",
       "25%                         0.094992      0.009068   \n",
       "50%                         0.189705      0.030297   \n",
       "75%                         0.267029      0.092149   \n",
       "max                         0.922326      0.903018   \n",
       "\n",
       "       Bs Capital y Eq Transporte   Servicios  \n",
       "count                  134.000000  134.000000  \n",
       "mean                     0.130454    0.311298  \n",
       "std                      0.146813    0.234506  \n",
       "min                      0.000000    0.000000  \n",
       "25%                      0.022570    0.155531  \n",
       "50%                      0.069291    0.231680  \n",
       "75%                      0.191982    0.427800  \n",
       "max                      0.660417    0.993419  "
      ]
     },
     "execution_count": 6,
     "metadata": {},
     "output_type": "execute_result"
    }
   ],
   "source": [
    "# Descriptivas\n",
    "df.describe()"
   ]
  },
  {
   "cell_type": "code",
   "execution_count": 7,
   "metadata": {},
   "outputs": [
    {
     "data": {
      "text/html": [
       "<div>\n",
       "<style scoped>\n",
       "    .dataframe tbody tr th:only-of-type {\n",
       "        vertical-align: middle;\n",
       "    }\n",
       "\n",
       "    .dataframe tbody tr th {\n",
       "        vertical-align: top;\n",
       "    }\n",
       "\n",
       "    .dataframe thead th {\n",
       "        text-align: right;\n",
       "    }\n",
       "</style>\n",
       "<table border=\"1\" class=\"dataframe\">\n",
       "  <thead>\n",
       "    <tr style=\"text-align: right;\">\n",
       "      <th></th>\n",
       "      <th>Alimentos y Bienes de Consumo</th>\n",
       "      <th>Combustibles</th>\n",
       "      <th>Bs Capital y Eq Transporte</th>\n",
       "      <th>Servicios</th>\n",
       "    </tr>\n",
       "  </thead>\n",
       "  <tbody>\n",
       "    <tr>\n",
       "      <th>0</th>\n",
       "      <td>0.263417</td>\n",
       "      <td>0.015144</td>\n",
       "      <td>0.000000</td>\n",
       "      <td>0.561113</td>\n",
       "    </tr>\n",
       "    <tr>\n",
       "      <th>1</th>\n",
       "      <td>0.205064</td>\n",
       "      <td>0.041810</td>\n",
       "      <td>0.014504</td>\n",
       "      <td>0.505531</td>\n",
       "    </tr>\n",
       "    <tr>\n",
       "      <th>2</th>\n",
       "      <td>0.438246</td>\n",
       "      <td>0.011037</td>\n",
       "      <td>0.351556</td>\n",
       "      <td>0.000000</td>\n",
       "    </tr>\n",
       "    <tr>\n",
       "      <th>3</th>\n",
       "      <td>0.319080</td>\n",
       "      <td>0.027268</td>\n",
       "      <td>0.112044</td>\n",
       "      <td>0.196831</td>\n",
       "    </tr>\n",
       "    <tr>\n",
       "      <th>4</th>\n",
       "      <td>0.164575</td>\n",
       "      <td>0.030888</td>\n",
       "      <td>0.012032</td>\n",
       "      <td>0.504127</td>\n",
       "    </tr>\n",
       "  </tbody>\n",
       "</table>\n",
       "</div>"
      ],
      "text/plain": [
       "   Alimentos y Bienes de Consumo  Combustibles  Bs Capital y Eq Transporte  \\\n",
       "0                       0.263417      0.015144                    0.000000   \n",
       "1                       0.205064      0.041810                    0.014504   \n",
       "2                       0.438246      0.011037                    0.351556   \n",
       "3                       0.319080      0.027268                    0.112044   \n",
       "4                       0.164575      0.030888                    0.012032   \n",
       "\n",
       "   Servicios  \n",
       "0   0.561113  \n",
       "1   0.505531  \n",
       "2   0.000000  \n",
       "3   0.196831  \n",
       "4   0.504127  "
      ]
     },
     "execution_count": 7,
     "metadata": {},
     "output_type": "execute_result"
    }
   ],
   "source": [
    "X = df[df.columns[1:]]\n",
    "X.head()"
   ]
  },
  {
   "cell_type": "code",
   "execution_count": 8,
   "metadata": {},
   "outputs": [],
   "source": [
    "X = spark.createDataFrame(df)\n",
    "#n_samples, n_features = X.shape"
   ]
  },
  {
   "cell_type": "code",
   "execution_count": 9,
   "metadata": {},
   "outputs": [
    {
     "name": "stdout",
     "output_type": "stream",
     "text": [
      "+----+-----------------------------+--------------------+--------------------------+-------------------+--------------------+\n",
      "|Pais|Alimentos y Bienes de Consumo|        Combustibles|Bs Capital y Eq Transporte|          Servicios|            features|\n",
      "+----+-----------------------------+--------------------+--------------------------+-------------------+--------------------+\n",
      "| AFG|                  0.263417141|         0.015143603|                       0.0|        0.561112985|[0.263417141,0.01...|\n",
      "| ALB|                  0.205063818|         0.041810141|               0.014504183| 0.5055307139999999|[0.205063818,0.04...|\n",
      "| ATG|                  0.438245802|         0.011037168|                0.35155603|                0.0|[0.438245802,0.01...|\n",
      "| ARG|                  0.319079542|         0.027268256|               0.112044424|        0.196830582|[0.319079542,0.02...|\n",
      "| ARM|                  0.164574629|0.030888277000000002|               0.012032132| 0.5041272720000001|[0.164574629,0.03...|\n",
      "| ABW|                  0.028001825|7.829999999999999E-5|               0.003523283| 0.9633641959999999|[0.028001825,7.82...|\n",
      "| AUS|                   0.14148959| 0.20000406399999998|      0.060076437999999996|         0.20943325|[0.14148959,0.200...|\n",
      "| AUT|                  0.134270552|          0.01460385|       0.29963802100000003|        0.286403758|[0.134270552,0.01...|\n",
      "| AZE|                  0.048851235|         0.626721499|               0.004360989|        0.278574612|[0.048851235,0.62...|\n",
      "| BHS|         0.027831202000000003|          0.02211483|               0.035347933|        0.860742685|[0.02783120200000...|\n",
      "| BGD|                  0.922325779|0.005659968000000...|               0.013409358|         1.38138E-4|[0.922325779,0.00...|\n",
      "| BLR|                  0.169741505| 0.22851400100000002|               0.106908209|        0.199524605|[0.169741505,0.22...|\n",
      "| BEL|                  0.200907138|         0.066439284|               0.180886674|0.21570149600000002|[0.200907138,0.06...|\n",
      "| BLZ|          0.25396248899999996|         0.033117132|               0.008995753|        0.612342437|[0.25396248899999...|\n",
      "| BEN|                  0.134310047|0.023082197000000002|                0.07657406|         0.36234607|[0.134310047,0.02...|\n",
      "| BMU|                  0.003630992|             5.54E-6|               0.002144764|         0.99341911|[0.003630992,5.54...|\n",
      "| BOL|                  0.101918406|         0.408241245|      6.378509999999999E-4|        0.116353129|[0.101918406,0.40...|\n",
      "| BIH|          0.22984846899999997|0.057734205999999996|               0.111017376|0.18720352699999998|[0.22984846899999...|\n",
      "| BWA|                  0.023804519|         0.003032852|               0.035060939|        0.177515402|[0.023804519,0.00...|\n",
      "| BRA|                  0.278682363|         0.060159408|               0.147507282|        0.148483966|[0.278682363,0.06...|\n",
      "+----+-----------------------------+--------------------+--------------------------+-------------------+--------------------+\n",
      "only showing top 20 rows\n",
      "\n"
     ]
    }
   ],
   "source": [
    "from pyspark.ml.evaluation import ClusteringEvaluator\n",
    "from pyspark.ml.clustering import KMeans\n",
    "from pyspark.ml.feature import VectorAssembler\n",
    "\n",
    "vecAssembler = VectorAssembler(inputCols=[\"Alimentos y Bienes de Consumo\",\"Combustibles\",\"Bs Capital y Eq Transporte\", \"Servicios\"], outputCol=\"features\")\n",
    "new_df = vecAssembler.transform(X)\n",
    "new_df.show()\n",
    "\n"
   ]
  },
  {
   "cell_type": "code",
   "execution_count": 10,
   "metadata": {},
   "outputs": [],
   "source": [
    "kmeans = KMeans().setK(4).setSeed(1)\n",
    "pred_clusters = kmeans.fit(new_df.select('features'))\n",
    "# Cluster centroid sirve para caracterizarlos"
   ]
  },
  {
   "cell_type": "code",
   "execution_count": 11,
   "metadata": {
    "scrolled": false
   },
   "outputs": [
    {
     "name": "stdout",
     "output_type": "stream",
     "text": [
      "+----+-----------------------------+--------------------+--------------------------+-------------------+--------------------+----------+\n",
      "|Pais|Alimentos y Bienes de Consumo|        Combustibles|Bs Capital y Eq Transporte|          Servicios|            features|prediction|\n",
      "+----+-----------------------------+--------------------+--------------------------+-------------------+--------------------+----------+\n",
      "| AFG|                  0.263417141|         0.015143603|                       0.0|        0.561112985|[0.263417141,0.01...|         3|\n",
      "| ALB|                  0.205063818|         0.041810141|               0.014504183| 0.5055307139999999|[0.205063818,0.04...|         3|\n",
      "| ATG|                  0.438245802|         0.011037168|                0.35155603|                0.0|[0.438245802,0.01...|         2|\n",
      "| ARG|                  0.319079542|         0.027268256|               0.112044424|        0.196830582|[0.319079542,0.02...|         2|\n",
      "| ARM|                  0.164574629|0.030888277000000002|               0.012032132| 0.5041272720000001|[0.164574629,0.03...|         3|\n",
      "| ABW|                  0.028001825|7.829999999999999E-5|               0.003523283| 0.9633641959999999|[0.028001825,7.82...|         3|\n",
      "| AUS|                   0.14148959| 0.20000406399999998|      0.060076437999999996|         0.20943325|[0.14148959,0.200...|         0|\n",
      "| AUT|                  0.134270552|          0.01460385|       0.29963802100000003|        0.286403758|[0.134270552,0.01...|         0|\n",
      "| AZE|                  0.048851235|         0.626721499|               0.004360989|        0.278574612|[0.048851235,0.62...|         1|\n",
      "| BHS|         0.027831202000000003|          0.02211483|               0.035347933|        0.860742685|[0.02783120200000...|         3|\n",
      "| BGD|                  0.922325779|0.005659968000000...|               0.013409358|         1.38138E-4|[0.922325779,0.00...|         2|\n",
      "| BLR|                  0.169741505| 0.22851400100000002|               0.106908209|        0.199524605|[0.169741505,0.22...|         0|\n",
      "| BEL|                  0.200907138|         0.066439284|               0.180886674|0.21570149600000002|[0.200907138,0.06...|         0|\n",
      "| BLZ|          0.25396248899999996|         0.033117132|               0.008995753|        0.612342437|[0.25396248899999...|         3|\n",
      "| BEN|                  0.134310047|0.023082197000000002|                0.07657406|         0.36234607|[0.134310047,0.02...|         0|\n",
      "| BMU|                  0.003630992|             5.54E-6|               0.002144764|         0.99341911|[0.003630992,5.54...|         3|\n",
      "| BOL|                  0.101918406|         0.408241245|      6.378509999999999E-4|        0.116353129|[0.101918406,0.40...|         1|\n",
      "| BIH|          0.22984846899999997|0.057734205999999996|               0.111017376|0.18720352699999998|[0.22984846899999...|         0|\n",
      "| BWA|                  0.023804519|         0.003032852|               0.035060939|        0.177515402|[0.023804519,0.00...|         0|\n",
      "| BRA|                  0.278682363|         0.060159408|               0.147507282|        0.148483966|[0.278682363,0.06...|         0|\n",
      "+----+-----------------------------+--------------------+--------------------------+-------------------+--------------------+----------+\n",
      "only showing top 20 rows\n",
      "\n"
     ]
    }
   ],
   "source": [
    "transformed = pred_clusters.transform(new_df)\n",
    "transformed.show()    "
   ]
  },
  {
   "cell_type": "code",
   "execution_count": 12,
   "metadata": {},
   "outputs": [
    {
     "name": "stdout",
     "output_type": "stream",
     "text": [
      "+----+--------------------+--------------------+--------------------+-------------------+------+\n",
      "|pais|   alimentos_consumo|        combustibles|   capital_tranporte|          servicios|kmeans|\n",
      "+----+--------------------+--------------------+--------------------+-------------------+------+\n",
      "| AFG|         0.263417141|         0.015143603|                 0.0|        0.561112985|     3|\n",
      "| ALB|         0.205063818|         0.041810141|         0.014504183| 0.5055307139999999|     3|\n",
      "| ATG|         0.438245802|         0.011037168|          0.35155603|                0.0|     2|\n",
      "| ARG|         0.319079542|         0.027268256|         0.112044424|        0.196830582|     2|\n",
      "| ARM|         0.164574629|0.030888277000000002|         0.012032132| 0.5041272720000001|     3|\n",
      "| ABW|         0.028001825|7.829999999999999E-5|         0.003523283| 0.9633641959999999|     3|\n",
      "| AUS|          0.14148959| 0.20000406399999998|0.060076437999999996|         0.20943325|     0|\n",
      "| AUT|         0.134270552|          0.01460385| 0.29963802100000003|        0.286403758|     0|\n",
      "| AZE|         0.048851235|         0.626721499|         0.004360989|        0.278574612|     1|\n",
      "| BHS|0.027831202000000003|          0.02211483|         0.035347933|        0.860742685|     3|\n",
      "| BGD|         0.922325779|0.005659968000000...|         0.013409358|         1.38138E-4|     2|\n",
      "| BLR|         0.169741505| 0.22851400100000002|         0.106908209|        0.199524605|     0|\n",
      "| BEL|         0.200907138|         0.066439284|         0.180886674|0.21570149600000002|     0|\n",
      "| BLZ| 0.25396248899999996|         0.033117132|         0.008995753|        0.612342437|     3|\n",
      "| BEN|         0.134310047|0.023082197000000002|          0.07657406|         0.36234607|     0|\n",
      "| BMU|         0.003630992|             5.54E-6|         0.002144764|         0.99341911|     3|\n",
      "| BOL|         0.101918406|         0.408241245|6.378509999999999E-4|        0.116353129|     1|\n",
      "| BIH| 0.22984846899999997|0.057734205999999996|         0.111017376|0.18720352699999998|     0|\n",
      "| BWA|         0.023804519|         0.003032852|         0.035060939|        0.177515402|     0|\n",
      "| BRA|         0.278682363|         0.060159408|         0.147507282|        0.148483966|     0|\n",
      "+----+--------------------+--------------------+--------------------+-------------------+------+\n",
      "only showing top 20 rows\n",
      "\n"
     ]
    }
   ],
   "source": [
    "from pyspark.sql.functions import col\n",
    "\n",
    "transformed = transformed.select(col(\"Pais\").alias(\"pais\"), col(\"Alimentos y Bienes de Consumo\").alias(\"alimentos_consumo\"),col(\"Combustibles\").alias(\"combustibles\"),col(\"Bs Capital y Eq Transporte\").alias(\"capital_tranporte\"),col(\"Servicios\").alias(\"servicios\"),col(\"prediction\").alias(\"kmeans\"))\n",
    "transformed.show()\n"
   ]
  },
  {
   "cell_type": "code",
   "execution_count": 13,
   "metadata": {},
   "outputs": [],
   "source": [
    "transformed \\\n",
    "    .write \\\n",
    "    .format(\"jdbc\") \\\n",
    "    .option(\"url\", \"jdbc:postgresql://postgres/workshop\") \\\n",
    "    .option(\"dbtable\", \"workshop.exports\") \\\n",
    "    .option(\"user\", \"workshop\") \\\n",
    "    .option(\"password\", \"w0rkzh0p\") \\\n",
    "    .option(\"driver\", \"org.postgresql.Driver\") \\\n",
    "    .mode('overwrite') \\\n",
    "    .save()"
   ]
  },
  {
   "cell_type": "code",
   "execution_count": 14,
   "metadata": {},
   "outputs": [],
   "source": [
    "transformed.createOrReplaceTempView(\"exports\")"
   ]
  },
  {
   "cell_type": "code",
   "execution_count": 15,
   "metadata": {},
   "outputs": [],
   "source": [
    "transposed =spark.sql(\"Select pais, kmeans, stack(4, 'alimentos_consumo',alimentos_consumo, 'combustibles',combustibles,'capital_tranporte',capital_tranporte,'servicios',servicios) as (metric, value) from exports\")"
   ]
  },
  {
   "cell_type": "code",
   "execution_count": 16,
   "metadata": {},
   "outputs": [
    {
     "name": "stdout",
     "output_type": "stream",
     "text": [
      "+----+------+-----------------+--------------------+\n",
      "|pais|kmeans|           metric|               value|\n",
      "+----+------+-----------------+--------------------+\n",
      "| AFG|     3|alimentos_consumo|         0.263417141|\n",
      "| AFG|     3|     combustibles|         0.015143603|\n",
      "| AFG|     3|capital_tranporte|                 0.0|\n",
      "| AFG|     3|        servicios|         0.561112985|\n",
      "| ALB|     3|alimentos_consumo|         0.205063818|\n",
      "| ALB|     3|     combustibles|         0.041810141|\n",
      "| ALB|     3|capital_tranporte|         0.014504183|\n",
      "| ALB|     3|        servicios|  0.5055307139999999|\n",
      "| ATG|     2|alimentos_consumo|         0.438245802|\n",
      "| ATG|     2|     combustibles|         0.011037168|\n",
      "| ATG|     2|capital_tranporte|          0.35155603|\n",
      "| ATG|     2|        servicios|                 0.0|\n",
      "| ARG|     2|alimentos_consumo|         0.319079542|\n",
      "| ARG|     2|     combustibles|         0.027268256|\n",
      "| ARG|     2|capital_tranporte|         0.112044424|\n",
      "| ARG|     2|        servicios|         0.196830582|\n",
      "| ARM|     3|alimentos_consumo|         0.164574629|\n",
      "| ARM|     3|     combustibles|0.030888277000000002|\n",
      "| ARM|     3|capital_tranporte|         0.012032132|\n",
      "| ARM|     3|        servicios|  0.5041272720000001|\n",
      "+----+------+-----------------+--------------------+\n",
      "only showing top 20 rows\n",
      "\n"
     ]
    }
   ],
   "source": [
    "transposed.show()"
   ]
  },
  {
   "cell_type": "code",
   "execution_count": 17,
   "metadata": {},
   "outputs": [],
   "source": [
    "transposed \\\n",
    "    .write \\\n",
    "    .format(\"jdbc\") \\\n",
    "    .option(\"url\", \"jdbc:postgresql://postgres/workshop\") \\\n",
    "    .option(\"dbtable\", \"workshop.exports_transposed\") \\\n",
    "    .option(\"user\", \"workshop\") \\\n",
    "    .option(\"password\", \"w0rkzh0p\") \\\n",
    "    .option(\"driver\", \"org.postgresql.Driver\") \\\n",
    "    .mode('overwrite') \\\n",
    "    .save()"
   ]
  },
  {
   "cell_type": "code",
   "execution_count": null,
   "metadata": {},
   "outputs": [],
   "source": []
  }
 ],
 "metadata": {
  "kernelspec": {
   "display_name": "Python 3",
   "language": "python",
   "name": "python3"
  },
  "language_info": {
   "codemirror_mode": {
    "name": "ipython",
    "version": 3
   },
   "file_extension": ".py",
   "mimetype": "text/x-python",
   "name": "python",
   "nbconvert_exporter": "python",
   "pygments_lexer": "ipython3",
   "version": "3.7.3"
  }
 },
 "nbformat": 4,
 "nbformat_minor": 4
}
